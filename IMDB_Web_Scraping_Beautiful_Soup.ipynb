{
  "nbformat": 4,
  "nbformat_minor": 0,
  "metadata": {
    "colab": {
      "name": "IMDB_Web_Scraping_Beautiful_Soup.ipynb",
      "version": "0.3.2",
      "provenance": [],
      "collapsed_sections": [],
      "include_colab_link": true
    },
    "kernelspec": {
      "name": "python3",
      "display_name": "Python 3"
    }
  },
  "cells": [
    {
      "cell_type": "markdown",
      "metadata": {
        "id": "view-in-github",
        "colab_type": "text"
      },
      "source": [
        "<a href=\"https://colab.research.google.com/github/alessiocozzi/IMDB_Web_Scraping_Beautiful_Soup/blob/master/IMDB_Web_Scraping_Beautiful_Soup.ipynb\" target=\"_parent\"><img src=\"https://colab.research.google.com/assets/colab-badge.svg\" alt=\"Open In Colab\"/></a>"
      ]
    },
    {
      "cell_type": "markdown",
      "metadata": {
        "id": "CVGkG4Qqc8Kb",
        "colab_type": "text"
      },
      "source": [
        "# IMDB - Web Scraping with Beautiful Soup\n",
        "###Name: Alessio Cozzi\n",
        "br\n",
        "\n",
        "\n",
        "\n",
        "\n",
        "\n"
      ]
    },
    {
      "cell_type": "code",
      "metadata": {
        "id": "nPFn9VCjCPJ3",
        "colab_type": "code",
        "outputId": "44eadb71-4b3f-443c-b11c-2c48c92223c6",
        "colab": {
          "base_uri": "https://localhost:8080/",
          "height": 401
        }
      },
      "source": [
        "from requests import get\n",
        "url = 'http://www.imdb.com/search/title?release_date=2017&sort=num_votes,desc&page=1'\n",
        "response = get(url)\n",
        "print(response.text[:500])"
      ],
      "execution_count": 76,
      "outputs": [
        {
          "output_type": "stream",
          "text": [
            "\n",
            "\n",
            "\n",
            "<!DOCTYPE html>\n",
            "<html\n",
            "    xmlns:og=\"http://ogp.me/ns#\"\n",
            "    xmlns:fb=\"http://www.facebook.com/2008/fbml\">\n",
            "    <head>\n",
            "         \n",
            "        <meta charset=\"utf-8\">\n",
            "        <meta http-equiv=\"X-UA-Compatible\" content=\"IE=edge\">\n",
            "\n",
            "    <meta name=\"apple-itunes-app\" content=\"app-id=342792525, app-argument=imdb:///?src=mdot\">\n",
            "\n",
            "\n",
            "\n",
            "        <script type=\"text/javascript\">var IMDbTimer={starttime: new Date().getTime(),pt:'java'};</script>\n",
            "\n",
            "<script>\n",
            "    if (typeof uet == 'function') {\n",
            "      uet(\"bb\", \"LoadTitle\"\n"
          ],
          "name": "stdout"
        }
      ]
    },
    {
      "cell_type": "code",
      "metadata": {
        "id": "0jlYZaxLCVKb",
        "colab_type": "code",
        "outputId": "3aa06168-452b-4245-b380-8c182940c83d",
        "colab": {
          "base_uri": "https://localhost:8080/",
          "height": 34
        }
      },
      "source": [
        "from bs4 import BeautifulSoup\n",
        "html_soup = BeautifulSoup(response.text, 'html.parser')\n",
        "type(html_soup)"
      ],
      "execution_count": 77,
      "outputs": [
        {
          "output_type": "execute_result",
          "data": {
            "text/plain": [
              "bs4.BeautifulSoup"
            ]
          },
          "metadata": {
            "tags": []
          },
          "execution_count": 77
        }
      ]
    },
    {
      "cell_type": "code",
      "metadata": {
        "id": "vMFfoncKvVum",
        "colab_type": "code",
        "outputId": "1d1aab43-3ea8-4ac0-9237-4d97ebbf8d53",
        "colab": {
          "base_uri": "https://localhost:8080/",
          "height": 51
        }
      },
      "source": [
        "movie_containers = html_soup.find_all('div', class_ = 'lister-item mode-advanced')\n",
        "print(type(movie_containers))\n",
        "print(len(movie_containers))"
      ],
      "execution_count": 78,
      "outputs": [
        {
          "output_type": "stream",
          "text": [
            "<class 'bs4.element.ResultSet'>\n",
            "50\n"
          ],
          "name": "stdout"
        }
      ]
    },
    {
      "cell_type": "code",
      "metadata": {
        "id": "ECIJJ5u4vc7D",
        "colab_type": "code",
        "colab": {}
      },
      "source": [
        "first_movie = movie_containers[0]"
      ],
      "execution_count": 0,
      "outputs": []
    },
    {
      "cell_type": "code",
      "metadata": {
        "id": "tyAc3lvrvgpk",
        "colab_type": "code",
        "outputId": "9a007cf5-8c04-45dd-d786-1490080385bc",
        "colab": {
          "base_uri": "https://localhost:8080/",
          "height": 89
        }
      },
      "source": [
        "first_movie.div"
      ],
      "execution_count": 80,
      "outputs": [
        {
          "output_type": "execute_result",
          "data": {
            "text/plain": [
              "<div class=\"lister-top-right\">\n",
              "<div class=\"ribbonize\" data-caller=\"filmosearch\" data-tconst=\"tt3315342\"></div>\n",
              "</div>"
            ]
          },
          "metadata": {
            "tags": []
          },
          "execution_count": 80
        }
      ]
    },
    {
      "cell_type": "code",
      "metadata": {
        "id": "RWXpONFwviNN",
        "colab_type": "code",
        "outputId": "e36b8845-b969-4553-9c96-dcb16de691f7",
        "colab": {
          "base_uri": "https://localhost:8080/",
          "height": 71
        }
      },
      "source": [
        "first_movie.a"
      ],
      "execution_count": 81,
      "outputs": [
        {
          "output_type": "execute_result",
          "data": {
            "text/plain": [
              "<a href=\"/title/tt3315342/\"> <img alt=\"Logan\" class=\"loadlate\" data-tconst=\"tt3315342\" height=\"98\" loadlate=\"https://m.media-amazon.com/images/M/MV5BYzc5MTU4N2EtYTkyMi00NjdhLTg3NWEtMTY4OTEyMzJhZTAzXkEyXkFqcGdeQXVyNjc1NTYyMjg@._V1_UX67_CR0,0,67,98_AL_.jpg\" src=\"https://m.media-amazon.com/images/G/01/imdb/images/nopicture/large/film-184890147._CB470041630_.png\" width=\"67\"/>\n",
              "</a>"
            ]
          },
          "metadata": {
            "tags": []
          },
          "execution_count": 81
        }
      ]
    },
    {
      "cell_type": "code",
      "metadata": {
        "id": "ffqDCjIIvjet",
        "colab_type": "code",
        "outputId": "b50510f6-a8e2-4a56-a359-8e45ca372dad",
        "colab": {
          "base_uri": "https://localhost:8080/",
          "height": 123
        }
      },
      "source": [
        "first_movie.h3"
      ],
      "execution_count": 82,
      "outputs": [
        {
          "output_type": "execute_result",
          "data": {
            "text/plain": [
              "<h3 class=\"lister-item-header\">\n",
              "<span class=\"lister-item-index unbold text-primary\">1.</span>\n",
              "<a href=\"/title/tt3315342/\">Logan</a>\n",
              "<span class=\"lister-item-year text-muted unbold\">(2017)</span>\n",
              "</h3>"
            ]
          },
          "metadata": {
            "tags": []
          },
          "execution_count": 82
        }
      ]
    },
    {
      "cell_type": "code",
      "metadata": {
        "id": "VDyZCAtJvlVQ",
        "colab_type": "code",
        "outputId": "d1c6c599-c810-41c8-dc2a-4a5e2d3e478e",
        "colab": {
          "base_uri": "https://localhost:8080/",
          "height": 34
        }
      },
      "source": [
        "first_movie.h3.a.text"
      ],
      "execution_count": 83,
      "outputs": [
        {
          "output_type": "execute_result",
          "data": {
            "text/plain": [
              "'Logan'"
            ]
          },
          "metadata": {
            "tags": []
          },
          "execution_count": 83
        }
      ]
    },
    {
      "cell_type": "code",
      "metadata": {
        "id": "GDqlBOkZvm2V",
        "colab_type": "code",
        "outputId": "cd2f487b-9337-46be-c3cd-5f563d93d7ff",
        "colab": {
          "base_uri": "https://localhost:8080/",
          "height": 34
        }
      },
      "source": [
        "first_name = first_movie.h3.a.text\n",
        "first_name"
      ],
      "execution_count": 84,
      "outputs": [
        {
          "output_type": "execute_result",
          "data": {
            "text/plain": [
              "'Logan'"
            ]
          },
          "metadata": {
            "tags": []
          },
          "execution_count": 84
        }
      ]
    },
    {
      "cell_type": "code",
      "metadata": {
        "id": "PsRVehz8vpHe",
        "colab_type": "code",
        "outputId": "4e2a147f-54d8-4817-b421-932b3b430cda",
        "colab": {
          "base_uri": "https://localhost:8080/",
          "height": 34
        }
      },
      "source": [
        "first_year = first_movie.h3.find('span', class_ = 'lister-item-year text-muted unbold')\n",
        "first_year.text"
      ],
      "execution_count": 85,
      "outputs": [
        {
          "output_type": "execute_result",
          "data": {
            "text/plain": [
              "'(2017)'"
            ]
          },
          "metadata": {
            "tags": []
          },
          "execution_count": 85
        }
      ]
    },
    {
      "cell_type": "code",
      "metadata": {
        "id": "kx7FMI1FvrPu",
        "colab_type": "code",
        "outputId": "88c85327-60cf-4af1-8281-65508493aa8e",
        "colab": {
          "base_uri": "https://localhost:8080/",
          "height": 34
        }
      },
      "source": [
        "first_year = first_year.text\n",
        "first_year"
      ],
      "execution_count": 86,
      "outputs": [
        {
          "output_type": "execute_result",
          "data": {
            "text/plain": [
              "'(2017)'"
            ]
          },
          "metadata": {
            "tags": []
          },
          "execution_count": 86
        }
      ]
    },
    {
      "cell_type": "code",
      "metadata": {
        "id": "qJ0aOqzhvtP_",
        "colab_type": "code",
        "outputId": "dada7825-82f6-40fd-c90f-32144e49b5cd",
        "colab": {
          "base_uri": "https://localhost:8080/",
          "height": 1000
        }
      },
      "source": [
        "print(first_movie.prettify())"
      ],
      "execution_count": 87,
      "outputs": [
        {
          "output_type": "stream",
          "text": [
            "<div class=\"lister-item mode-advanced\">\n",
            " <div class=\"lister-top-right\">\n",
            "  <div class=\"ribbonize\" data-caller=\"filmosearch\" data-tconst=\"tt3315342\">\n",
            "  </div>\n",
            " </div>\n",
            " <div class=\"lister-item-image float-left\">\n",
            "  <a href=\"/title/tt3315342/\">\n",
            "   <img alt=\"Logan\" class=\"loadlate\" data-tconst=\"tt3315342\" height=\"98\" loadlate=\"https://m.media-amazon.com/images/M/MV5BYzc5MTU4N2EtYTkyMi00NjdhLTg3NWEtMTY4OTEyMzJhZTAzXkEyXkFqcGdeQXVyNjc1NTYyMjg@._V1_UX67_CR0,0,67,98_AL_.jpg\" src=\"https://m.media-amazon.com/images/G/01/imdb/images/nopicture/large/film-184890147._CB470041630_.png\" width=\"67\"/>\n",
            "  </a>\n",
            " </div>\n",
            " <div class=\"lister-item-content\">\n",
            "  <h3 class=\"lister-item-header\">\n",
            "   <span class=\"lister-item-index unbold text-primary\">\n",
            "    1.\n",
            "   </span>\n",
            "   <a href=\"/title/tt3315342/\">\n",
            "    Logan\n",
            "   </a>\n",
            "   <span class=\"lister-item-year text-muted unbold\">\n",
            "    (2017)\n",
            "   </span>\n",
            "  </h3>\n",
            "  <p class=\"text-muted \">\n",
            "   <span class=\"certificate\">\n",
            "    R\n",
            "   </span>\n",
            "   <span class=\"ghost\">\n",
            "    |\n",
            "   </span>\n",
            "   <span class=\"runtime\">\n",
            "    137 min\n",
            "   </span>\n",
            "   <span class=\"ghost\">\n",
            "    |\n",
            "   </span>\n",
            "   <span class=\"genre\">\n",
            "    Action, Drama, Sci-Fi\n",
            "   </span>\n",
            "  </p>\n",
            "  <div class=\"ratings-bar\">\n",
            "   <div class=\"inline-block ratings-imdb-rating\" data-value=\"8.1\" name=\"ir\">\n",
            "    <span class=\"global-sprite rating-star imdb-rating\">\n",
            "    </span>\n",
            "    <strong>\n",
            "     8.1\n",
            "    </strong>\n",
            "   </div>\n",
            "   <div class=\"inline-block ratings-user-rating\">\n",
            "    <span class=\"userRatingValue\" data-tconst=\"tt3315342\" id=\"urv_tt3315342\">\n",
            "     <span class=\"global-sprite rating-star no-rating\">\n",
            "     </span>\n",
            "     <span class=\"rate\" data-no-rating=\"Rate this\" data-value=\"0\" name=\"ur\">\n",
            "      Rate this\n",
            "     </span>\n",
            "    </span>\n",
            "    <div class=\"starBarWidget\" id=\"sb_tt3315342\">\n",
            "     <div class=\"rating rating-list\" data-auth=\"\" data-ga-identifier=\"\" data-starbar-class=\"rating-list\" data-user=\"\" id=\"tt3315342|imdb|8.1|8.1|||advsearch|title\" itemprop=\"aggregateRating\" itemscope=\"\" itemtype=\"http://schema.org/AggregateRating\" title=\"Users rated this 8.1/10 (565,514 votes) - click stars to rate\">\n",
            "      <meta content=\"8.1\" itemprop=\"ratingValue\"/>\n",
            "      <meta content=\"10\" itemprop=\"bestRating\"/>\n",
            "      <meta content=\"565514\" itemprop=\"ratingCount\"/>\n",
            "      <span class=\"rating-bg\">\n",
            "      </span>\n",
            "      <span class=\"rating-imdb \" style=\"width: 113.4px\">\n",
            "      </span>\n",
            "      <span class=\"rating-stars\">\n",
            "       <a href=\"/register/login?why=vote\" rel=\"nofollow\" title=\"Register or login to rate this title\">\n",
            "        <span>\n",
            "         1\n",
            "        </span>\n",
            "       </a>\n",
            "       <a href=\"/register/login?why=vote\" rel=\"nofollow\" title=\"Register or login to rate this title\">\n",
            "        <span>\n",
            "         2\n",
            "        </span>\n",
            "       </a>\n",
            "       <a href=\"/register/login?why=vote\" rel=\"nofollow\" title=\"Register or login to rate this title\">\n",
            "        <span>\n",
            "         3\n",
            "        </span>\n",
            "       </a>\n",
            "       <a href=\"/register/login?why=vote\" rel=\"nofollow\" title=\"Register or login to rate this title\">\n",
            "        <span>\n",
            "         4\n",
            "        </span>\n",
            "       </a>\n",
            "       <a href=\"/register/login?why=vote\" rel=\"nofollow\" title=\"Register or login to rate this title\">\n",
            "        <span>\n",
            "         5\n",
            "        </span>\n",
            "       </a>\n",
            "       <a href=\"/register/login?why=vote\" rel=\"nofollow\" title=\"Register or login to rate this title\">\n",
            "        <span>\n",
            "         6\n",
            "        </span>\n",
            "       </a>\n",
            "       <a href=\"/register/login?why=vote\" rel=\"nofollow\" title=\"Register or login to rate this title\">\n",
            "        <span>\n",
            "         7\n",
            "        </span>\n",
            "       </a>\n",
            "       <a href=\"/register/login?why=vote\" rel=\"nofollow\" title=\"Register or login to rate this title\">\n",
            "        <span>\n",
            "         8\n",
            "        </span>\n",
            "       </a>\n",
            "       <a href=\"/register/login?why=vote\" rel=\"nofollow\" title=\"Register or login to rate this title\">\n",
            "        <span>\n",
            "         9\n",
            "        </span>\n",
            "       </a>\n",
            "       <a href=\"/register/login?why=vote\" rel=\"nofollow\" title=\"Register or login to rate this title\">\n",
            "        <span>\n",
            "         10\n",
            "        </span>\n",
            "       </a>\n",
            "      </span>\n",
            "      <span class=\"rating-rating \">\n",
            "       <span class=\"value\">\n",
            "        8.1\n",
            "       </span>\n",
            "       <span class=\"grey\">\n",
            "        /\n",
            "       </span>\n",
            "       <span class=\"grey\">\n",
            "        10\n",
            "       </span>\n",
            "      </span>\n",
            "      <span class=\"rating-cancel \">\n",
            "       <a href=\"/title/tt3315342/vote?v=X;k=\" rel=\"nofollow\" title=\"Delete\">\n",
            "        <span>\n",
            "         X\n",
            "        </span>\n",
            "       </a>\n",
            "      </span>\n",
            "     </div>\n",
            "    </div>\n",
            "   </div>\n",
            "   <div class=\"inline-block ratings-metascore\">\n",
            "    <span class=\"metascore favorable\">\n",
            "     77\n",
            "    </span>\n",
            "    Metascore\n",
            "   </div>\n",
            "  </div>\n",
            "  <p class=\"text-muted\">\n",
            "   In a future where mutants are nearly extinct, an elderly and weary Logan leads a quiet life. But when Laura, a mutant child pursued by scientists, comes to him for help, he must get her to safety.\n",
            "  </p>\n",
            "  <p class=\"\">\n",
            "   Director:\n",
            "   <a href=\"/name/nm0003506/\">\n",
            "    James Mangold\n",
            "   </a>\n",
            "   <span class=\"ghost\">\n",
            "    |\n",
            "   </span>\n",
            "   Stars:\n",
            "   <a href=\"/name/nm0413168/\">\n",
            "    Hugh Jackman\n",
            "   </a>\n",
            "   ,\n",
            "   <a href=\"/name/nm0001772/\">\n",
            "    Patrick Stewart\n",
            "   </a>\n",
            "   ,\n",
            "   <a href=\"/name/nm6748436/\">\n",
            "    Dafne Keen\n",
            "   </a>\n",
            "   ,\n",
            "   <a href=\"/name/nm2933542/\">\n",
            "    Boyd Holbrook\n",
            "   </a>\n",
            "  </p>\n",
            "  <p class=\"sort-num_votes-visible\">\n",
            "   <span class=\"text-muted\">\n",
            "    Votes:\n",
            "   </span>\n",
            "   <span data-value=\"565514\" name=\"nv\">\n",
            "    565,514\n",
            "   </span>\n",
            "   <span class=\"ghost\">\n",
            "    |\n",
            "   </span>\n",
            "   <span class=\"text-muted\">\n",
            "    Gross:\n",
            "   </span>\n",
            "   <span data-value=\"226,277,068\" name=\"nv\">\n",
            "    $226.28M\n",
            "   </span>\n",
            "  </p>\n",
            " </div>\n",
            "</div>\n",
            "\n"
          ],
          "name": "stdout"
        }
      ]
    },
    {
      "cell_type": "code",
      "metadata": {
        "id": "4ZcBBDlUvvCP",
        "colab_type": "code",
        "outputId": "daab505e-bb72-45bc-93a0-64ccbbd52eb1",
        "colab": {
          "base_uri": "https://localhost:8080/",
          "height": 34
        }
      },
      "source": [
        "first_imdb = float(first_movie.strong.text)\n",
        "first_imdb"
      ],
      "execution_count": 88,
      "outputs": [
        {
          "output_type": "execute_result",
          "data": {
            "text/plain": [
              "8.1"
            ]
          },
          "metadata": {
            "tags": []
          },
          "execution_count": 88
        }
      ]
    },
    {
      "cell_type": "code",
      "metadata": {
        "id": "mJavDUELvyhH",
        "colab_type": "code",
        "outputId": "8f2a36fb-fe8d-45fa-a714-dc48b490f391",
        "colab": {
          "base_uri": "https://localhost:8080/",
          "height": 34
        }
      },
      "source": [
        "first_mscore = first_movie.find('span', class_ = 'metascore favorable')\n",
        "first_mscore = int(first_mscore.text)\n",
        "print(first_mscore)"
      ],
      "execution_count": 89,
      "outputs": [
        {
          "output_type": "stream",
          "text": [
            "77\n"
          ],
          "name": "stdout"
        }
      ]
    },
    {
      "cell_type": "code",
      "metadata": {
        "id": "SFmJNXRgv0Ov",
        "colab_type": "code",
        "outputId": "5bfd331b-14d8-46ef-adee-c7067589969e",
        "colab": {
          "base_uri": "https://localhost:8080/",
          "height": 54
        }
      },
      "source": [
        "first_votes = first_movie.find('span', attrs = {'name':'nv'})\n",
        "first_votes"
      ],
      "execution_count": 90,
      "outputs": [
        {
          "output_type": "execute_result",
          "data": {
            "text/plain": [
              "<span data-value=\"565514\" name=\"nv\">565,514</span>"
            ]
          },
          "metadata": {
            "tags": []
          },
          "execution_count": 90
        }
      ]
    },
    {
      "cell_type": "code",
      "metadata": {
        "id": "rJLDzv8rv14H",
        "colab_type": "code",
        "outputId": "e4d0de06-00db-4afd-e340-509dbc924304",
        "colab": {
          "base_uri": "https://localhost:8080/",
          "height": 34
        }
      },
      "source": [
        "first_votes['data-value']"
      ],
      "execution_count": 91,
      "outputs": [
        {
          "output_type": "execute_result",
          "data": {
            "text/plain": [
              "'565514'"
            ]
          },
          "metadata": {
            "tags": []
          },
          "execution_count": 91
        }
      ]
    },
    {
      "cell_type": "code",
      "metadata": {
        "id": "a6rWkQ6Tv30Y",
        "colab_type": "code",
        "colab": {}
      },
      "source": [
        "first_votes = int(first_votes['data-value'])"
      ],
      "execution_count": 0,
      "outputs": []
    },
    {
      "cell_type": "code",
      "metadata": {
        "id": "lpgRoZHzv5RQ",
        "colab_type": "code",
        "outputId": "6524c6c5-4580-47fd-db44-f07709ca3a1f",
        "colab": {
          "base_uri": "https://localhost:8080/",
          "height": 106
        }
      },
      "source": [
        "eighth_movie_mscore = movie_containers[7].find('div', class_ = 'ratings-metascore')\n",
        "print(eighth_movie_mscore)"
      ],
      "execution_count": 93,
      "outputs": [
        {
          "output_type": "stream",
          "text": [
            "<div class=\"inline-block ratings-metascore\">\n",
            "<span class=\"metascore favorable\">84        </span>\n",
            "        Metascore\n",
            "            </div>\n"
          ],
          "name": "stdout"
        }
      ]
    },
    {
      "cell_type": "code",
      "metadata": {
        "id": "6aABEZRCwGSz",
        "colab_type": "code",
        "outputId": "eba79ff9-1258-4a54-f062-b8faef6c8d2e",
        "colab": {
          "base_uri": "https://localhost:8080/",
          "height": 123
        }
      },
      "source": [
        "import numpy as np\n",
        "\n",
        "names = []\n",
        "years = []\n",
        "imdb_ratings = []\n",
        "metascores = []\n",
        "votes = []\n",
        "\n",
        "\n",
        "for countainer in movie_containers:\n",
        "    name = countainer.h3.a.text\n",
        "    names.append(name)\n",
        "    year = countainer.h3.find('span', class_ = 'lister-item-year text-muted unbold').text\n",
        "    start_year = year.find('2')\n",
        "    years.append(year[start_year:start_year+4])\n",
        "    imdb_rating = float(first_movie.strong.text)\n",
        "    imdb_ratings.append(imdb_rating)\n",
        "    metascore = countainer.find('span', class_ = 'metascore favorable')\n",
        "    if str(type(metascore)) == \"<class 'NoneType'>\":\n",
        "        metascores.append(np.nan)\n",
        "    else:\n",
        "        metascores.append(int(metascore.text))\n",
        "    vote = int(first_movie.find('span', attrs = {'name':'nv'})['data-value'])\n",
        "    votes.append(vote)\n",
        "    \n",
        "    \n",
        "print(names)\n",
        "print(years)\n",
        "print(imdb_ratings)\n",
        "print(metascores)\n",
        "print(votes)\n",
        "    "
      ],
      "execution_count": 94,
      "outputs": [
        {
          "output_type": "stream",
          "text": [
            "['Logan', 'Wonder Woman', 'Thor: Ragnarok', 'Guardians of the Galaxy Vol. 2', 'Dunkirk', 'Star Wars: Episode VIII - The Last Jedi', 'Spider-Man: Homecoming', 'Get Out', 'Blade Runner 2049', 'Baby Driver', 'It', 'Three Billboards Outside Ebbing, Missouri', 'Justice League', 'The Shape of Water', 'John Wick: Chapter 2', 'Coco', 'Jumanji: Welcome to the Jungle', 'Kong: Skull Island', 'Beauty and the Beast', 'Kingsman: The Golden Circle', 'Pirates of the Caribbean: Dead Men Tell No Tales', 'Alien: Covenant', '13 Reasons Why', 'War for the Planet of the Apes', 'The Greatest Showman', 'Life', 'The Fate of the Furious', 'Murder on the Orient Express', 'Lady Bird', 'Ghost in the Shell', 'Wind River', 'King Arthur: Legend of the Sword', \"The Hitman's Bodyguard\", 'Mother!', 'Call Me by Your Name', 'The Mummy', 'Atomic Blonde', 'The Punisher', 'Bright', 'I, Tonya', 'Valerian and the City of a Thousand Planets', 'Baywatch', 'Darkest Hour', 'Money Heist', 'American Made', \"The Handmaid's Tale\", 'Mindhunter', 'Transformers: The Last Knight', 'Dark', 'The Lego Batman Movie']\n",
            "['2017', '2017', '2017', '2017', '2017', '2017', '2017', '2017', '2017', '2017', '2017', '2017', '2017', '2017', '2017', '2017', '2017', '2017', '2017', '2017', '2017', '2017', '2017', '2017', '2017', '2017', '2017', '2017', '2017', '2017', '2017', '2017', '2017', '2017', '2017', '2017', '2017', '2017', '2017', '2017', '2017', '2017', '2017', '2017', '2017', '2017', '2017', '2017', '2017', '2017']\n",
            "[8.1, 8.1, 8.1, 8.1, 8.1, 8.1, 8.1, 8.1, 8.1, 8.1, 8.1, 8.1, 8.1, 8.1, 8.1, 8.1, 8.1, 8.1, 8.1, 8.1, 8.1, 8.1, 8.1, 8.1, 8.1, 8.1, 8.1, 8.1, 8.1, 8.1, 8.1, 8.1, 8.1, 8.1, 8.1, 8.1, 8.1, 8.1, 8.1, 8.1, 8.1, 8.1, 8.1, 8.1, 8.1, 8.1, 8.1, 8.1, 8.1, 8.1]\n",
            "[77, 76, 74, 67, 94, 85, 73, 84, 81, 86, 69, 88, nan, 87, 75, 81, nan, 62, 65, nan, nan, 65, nan, 82, nan, nan, nan, nan, 94, nan, 73, nan, nan, 75, 93, nan, 63, nan, nan, 77, nan, nan, 75, nan, 65, nan, nan, nan, nan, 75]\n",
            "[565514, 565514, 565514, 565514, 565514, 565514, 565514, 565514, 565514, 565514, 565514, 565514, 565514, 565514, 565514, 565514, 565514, 565514, 565514, 565514, 565514, 565514, 565514, 565514, 565514, 565514, 565514, 565514, 565514, 565514, 565514, 565514, 565514, 565514, 565514, 565514, 565514, 565514, 565514, 565514, 565514, 565514, 565514, 565514, 565514, 565514, 565514, 565514, 565514, 565514]\n"
          ],
          "name": "stdout"
        }
      ]
    },
    {
      "cell_type": "code",
      "metadata": {
        "id": "xzB96DF0wMYL",
        "colab_type": "code",
        "outputId": "93d91caa-4aef-467b-a1b6-01ca3e7f34a7",
        "colab": {
          "base_uri": "https://localhost:8080/",
          "height": 34
        }
      },
      "source": [
        "print(len(names),len(years),len(imdb_ratings),len(metascores),len(votes))"
      ],
      "execution_count": 95,
      "outputs": [
        {
          "output_type": "stream",
          "text": [
            "50 50 50 50 50\n"
          ],
          "name": "stdout"
        }
      ]
    },
    {
      "cell_type": "code",
      "metadata": {
        "id": "PoYgcKjJwPvL",
        "colab_type": "code",
        "colab": {}
      },
      "source": [
        "import pandas as pd\n",
        "df = pd.DataFrame({'name':names, 'year':years, 'imdb_rating':imdb_ratings, 'metascore':metascores, 'vote':votes})"
      ],
      "execution_count": 0,
      "outputs": []
    },
    {
      "cell_type": "code",
      "metadata": {
        "id": "o6FFgVhM0Pkm",
        "colab_type": "code",
        "outputId": "044fb44c-9d41-4ade-fbee-810348b239f9",
        "colab": {
          "base_uri": "https://localhost:8080/",
          "height": 1000
        }
      },
      "source": [
        "df"
      ],
      "execution_count": 97,
      "outputs": [
        {
          "output_type": "execute_result",
          "data": {
            "text/html": [
              "<div>\n",
              "<style scoped>\n",
              "    .dataframe tbody tr th:only-of-type {\n",
              "        vertical-align: middle;\n",
              "    }\n",
              "\n",
              "    .dataframe tbody tr th {\n",
              "        vertical-align: top;\n",
              "    }\n",
              "\n",
              "    .dataframe thead th {\n",
              "        text-align: right;\n",
              "    }\n",
              "</style>\n",
              "<table border=\"1\" class=\"dataframe\">\n",
              "  <thead>\n",
              "    <tr style=\"text-align: right;\">\n",
              "      <th></th>\n",
              "      <th>name</th>\n",
              "      <th>year</th>\n",
              "      <th>imdb_rating</th>\n",
              "      <th>metascore</th>\n",
              "      <th>vote</th>\n",
              "    </tr>\n",
              "  </thead>\n",
              "  <tbody>\n",
              "    <tr>\n",
              "      <th>0</th>\n",
              "      <td>Logan</td>\n",
              "      <td>2017</td>\n",
              "      <td>8.1</td>\n",
              "      <td>77.0</td>\n",
              "      <td>565514</td>\n",
              "    </tr>\n",
              "    <tr>\n",
              "      <th>1</th>\n",
              "      <td>Wonder Woman</td>\n",
              "      <td>2017</td>\n",
              "      <td>8.1</td>\n",
              "      <td>76.0</td>\n",
              "      <td>565514</td>\n",
              "    </tr>\n",
              "    <tr>\n",
              "      <th>2</th>\n",
              "      <td>Thor: Ragnarok</td>\n",
              "      <td>2017</td>\n",
              "      <td>8.1</td>\n",
              "      <td>74.0</td>\n",
              "      <td>565514</td>\n",
              "    </tr>\n",
              "    <tr>\n",
              "      <th>3</th>\n",
              "      <td>Guardians of the Galaxy Vol. 2</td>\n",
              "      <td>2017</td>\n",
              "      <td>8.1</td>\n",
              "      <td>67.0</td>\n",
              "      <td>565514</td>\n",
              "    </tr>\n",
              "    <tr>\n",
              "      <th>4</th>\n",
              "      <td>Dunkirk</td>\n",
              "      <td>2017</td>\n",
              "      <td>8.1</td>\n",
              "      <td>94.0</td>\n",
              "      <td>565514</td>\n",
              "    </tr>\n",
              "    <tr>\n",
              "      <th>5</th>\n",
              "      <td>Star Wars: Episode VIII - The Last Jedi</td>\n",
              "      <td>2017</td>\n",
              "      <td>8.1</td>\n",
              "      <td>85.0</td>\n",
              "      <td>565514</td>\n",
              "    </tr>\n",
              "    <tr>\n",
              "      <th>6</th>\n",
              "      <td>Spider-Man: Homecoming</td>\n",
              "      <td>2017</td>\n",
              "      <td>8.1</td>\n",
              "      <td>73.0</td>\n",
              "      <td>565514</td>\n",
              "    </tr>\n",
              "    <tr>\n",
              "      <th>7</th>\n",
              "      <td>Get Out</td>\n",
              "      <td>2017</td>\n",
              "      <td>8.1</td>\n",
              "      <td>84.0</td>\n",
              "      <td>565514</td>\n",
              "    </tr>\n",
              "    <tr>\n",
              "      <th>8</th>\n",
              "      <td>Blade Runner 2049</td>\n",
              "      <td>2017</td>\n",
              "      <td>8.1</td>\n",
              "      <td>81.0</td>\n",
              "      <td>565514</td>\n",
              "    </tr>\n",
              "    <tr>\n",
              "      <th>9</th>\n",
              "      <td>Baby Driver</td>\n",
              "      <td>2017</td>\n",
              "      <td>8.1</td>\n",
              "      <td>86.0</td>\n",
              "      <td>565514</td>\n",
              "    </tr>\n",
              "    <tr>\n",
              "      <th>10</th>\n",
              "      <td>It</td>\n",
              "      <td>2017</td>\n",
              "      <td>8.1</td>\n",
              "      <td>69.0</td>\n",
              "      <td>565514</td>\n",
              "    </tr>\n",
              "    <tr>\n",
              "      <th>11</th>\n",
              "      <td>Three Billboards Outside Ebbing, Missouri</td>\n",
              "      <td>2017</td>\n",
              "      <td>8.1</td>\n",
              "      <td>88.0</td>\n",
              "      <td>565514</td>\n",
              "    </tr>\n",
              "    <tr>\n",
              "      <th>12</th>\n",
              "      <td>Justice League</td>\n",
              "      <td>2017</td>\n",
              "      <td>8.1</td>\n",
              "      <td>NaN</td>\n",
              "      <td>565514</td>\n",
              "    </tr>\n",
              "    <tr>\n",
              "      <th>13</th>\n",
              "      <td>The Shape of Water</td>\n",
              "      <td>2017</td>\n",
              "      <td>8.1</td>\n",
              "      <td>87.0</td>\n",
              "      <td>565514</td>\n",
              "    </tr>\n",
              "    <tr>\n",
              "      <th>14</th>\n",
              "      <td>John Wick: Chapter 2</td>\n",
              "      <td>2017</td>\n",
              "      <td>8.1</td>\n",
              "      <td>75.0</td>\n",
              "      <td>565514</td>\n",
              "    </tr>\n",
              "    <tr>\n",
              "      <th>15</th>\n",
              "      <td>Coco</td>\n",
              "      <td>2017</td>\n",
              "      <td>8.1</td>\n",
              "      <td>81.0</td>\n",
              "      <td>565514</td>\n",
              "    </tr>\n",
              "    <tr>\n",
              "      <th>16</th>\n",
              "      <td>Jumanji: Welcome to the Jungle</td>\n",
              "      <td>2017</td>\n",
              "      <td>8.1</td>\n",
              "      <td>NaN</td>\n",
              "      <td>565514</td>\n",
              "    </tr>\n",
              "    <tr>\n",
              "      <th>17</th>\n",
              "      <td>Kong: Skull Island</td>\n",
              "      <td>2017</td>\n",
              "      <td>8.1</td>\n",
              "      <td>62.0</td>\n",
              "      <td>565514</td>\n",
              "    </tr>\n",
              "    <tr>\n",
              "      <th>18</th>\n",
              "      <td>Beauty and the Beast</td>\n",
              "      <td>2017</td>\n",
              "      <td>8.1</td>\n",
              "      <td>65.0</td>\n",
              "      <td>565514</td>\n",
              "    </tr>\n",
              "    <tr>\n",
              "      <th>19</th>\n",
              "      <td>Kingsman: The Golden Circle</td>\n",
              "      <td>2017</td>\n",
              "      <td>8.1</td>\n",
              "      <td>NaN</td>\n",
              "      <td>565514</td>\n",
              "    </tr>\n",
              "    <tr>\n",
              "      <th>20</th>\n",
              "      <td>Pirates of the Caribbean: Dead Men Tell No Tales</td>\n",
              "      <td>2017</td>\n",
              "      <td>8.1</td>\n",
              "      <td>NaN</td>\n",
              "      <td>565514</td>\n",
              "    </tr>\n",
              "    <tr>\n",
              "      <th>21</th>\n",
              "      <td>Alien: Covenant</td>\n",
              "      <td>2017</td>\n",
              "      <td>8.1</td>\n",
              "      <td>65.0</td>\n",
              "      <td>565514</td>\n",
              "    </tr>\n",
              "    <tr>\n",
              "      <th>22</th>\n",
              "      <td>13 Reasons Why</td>\n",
              "      <td>2017</td>\n",
              "      <td>8.1</td>\n",
              "      <td>NaN</td>\n",
              "      <td>565514</td>\n",
              "    </tr>\n",
              "    <tr>\n",
              "      <th>23</th>\n",
              "      <td>War for the Planet of the Apes</td>\n",
              "      <td>2017</td>\n",
              "      <td>8.1</td>\n",
              "      <td>82.0</td>\n",
              "      <td>565514</td>\n",
              "    </tr>\n",
              "    <tr>\n",
              "      <th>24</th>\n",
              "      <td>The Greatest Showman</td>\n",
              "      <td>2017</td>\n",
              "      <td>8.1</td>\n",
              "      <td>NaN</td>\n",
              "      <td>565514</td>\n",
              "    </tr>\n",
              "    <tr>\n",
              "      <th>25</th>\n",
              "      <td>Life</td>\n",
              "      <td>2017</td>\n",
              "      <td>8.1</td>\n",
              "      <td>NaN</td>\n",
              "      <td>565514</td>\n",
              "    </tr>\n",
              "    <tr>\n",
              "      <th>26</th>\n",
              "      <td>The Fate of the Furious</td>\n",
              "      <td>2017</td>\n",
              "      <td>8.1</td>\n",
              "      <td>NaN</td>\n",
              "      <td>565514</td>\n",
              "    </tr>\n",
              "    <tr>\n",
              "      <th>27</th>\n",
              "      <td>Murder on the Orient Express</td>\n",
              "      <td>2017</td>\n",
              "      <td>8.1</td>\n",
              "      <td>NaN</td>\n",
              "      <td>565514</td>\n",
              "    </tr>\n",
              "    <tr>\n",
              "      <th>28</th>\n",
              "      <td>Lady Bird</td>\n",
              "      <td>2017</td>\n",
              "      <td>8.1</td>\n",
              "      <td>94.0</td>\n",
              "      <td>565514</td>\n",
              "    </tr>\n",
              "    <tr>\n",
              "      <th>29</th>\n",
              "      <td>Ghost in the Shell</td>\n",
              "      <td>2017</td>\n",
              "      <td>8.1</td>\n",
              "      <td>NaN</td>\n",
              "      <td>565514</td>\n",
              "    </tr>\n",
              "    <tr>\n",
              "      <th>30</th>\n",
              "      <td>Wind River</td>\n",
              "      <td>2017</td>\n",
              "      <td>8.1</td>\n",
              "      <td>73.0</td>\n",
              "      <td>565514</td>\n",
              "    </tr>\n",
              "    <tr>\n",
              "      <th>31</th>\n",
              "      <td>King Arthur: Legend of the Sword</td>\n",
              "      <td>2017</td>\n",
              "      <td>8.1</td>\n",
              "      <td>NaN</td>\n",
              "      <td>565514</td>\n",
              "    </tr>\n",
              "    <tr>\n",
              "      <th>32</th>\n",
              "      <td>The Hitman's Bodyguard</td>\n",
              "      <td>2017</td>\n",
              "      <td>8.1</td>\n",
              "      <td>NaN</td>\n",
              "      <td>565514</td>\n",
              "    </tr>\n",
              "    <tr>\n",
              "      <th>33</th>\n",
              "      <td>Mother!</td>\n",
              "      <td>2017</td>\n",
              "      <td>8.1</td>\n",
              "      <td>75.0</td>\n",
              "      <td>565514</td>\n",
              "    </tr>\n",
              "    <tr>\n",
              "      <th>34</th>\n",
              "      <td>Call Me by Your Name</td>\n",
              "      <td>2017</td>\n",
              "      <td>8.1</td>\n",
              "      <td>93.0</td>\n",
              "      <td>565514</td>\n",
              "    </tr>\n",
              "    <tr>\n",
              "      <th>35</th>\n",
              "      <td>The Mummy</td>\n",
              "      <td>2017</td>\n",
              "      <td>8.1</td>\n",
              "      <td>NaN</td>\n",
              "      <td>565514</td>\n",
              "    </tr>\n",
              "    <tr>\n",
              "      <th>36</th>\n",
              "      <td>Atomic Blonde</td>\n",
              "      <td>2017</td>\n",
              "      <td>8.1</td>\n",
              "      <td>63.0</td>\n",
              "      <td>565514</td>\n",
              "    </tr>\n",
              "    <tr>\n",
              "      <th>37</th>\n",
              "      <td>The Punisher</td>\n",
              "      <td>2017</td>\n",
              "      <td>8.1</td>\n",
              "      <td>NaN</td>\n",
              "      <td>565514</td>\n",
              "    </tr>\n",
              "    <tr>\n",
              "      <th>38</th>\n",
              "      <td>Bright</td>\n",
              "      <td>2017</td>\n",
              "      <td>8.1</td>\n",
              "      <td>NaN</td>\n",
              "      <td>565514</td>\n",
              "    </tr>\n",
              "    <tr>\n",
              "      <th>39</th>\n",
              "      <td>I, Tonya</td>\n",
              "      <td>2017</td>\n",
              "      <td>8.1</td>\n",
              "      <td>77.0</td>\n",
              "      <td>565514</td>\n",
              "    </tr>\n",
              "    <tr>\n",
              "      <th>40</th>\n",
              "      <td>Valerian and the City of a Thousand Planets</td>\n",
              "      <td>2017</td>\n",
              "      <td>8.1</td>\n",
              "      <td>NaN</td>\n",
              "      <td>565514</td>\n",
              "    </tr>\n",
              "    <tr>\n",
              "      <th>41</th>\n",
              "      <td>Baywatch</td>\n",
              "      <td>2017</td>\n",
              "      <td>8.1</td>\n",
              "      <td>NaN</td>\n",
              "      <td>565514</td>\n",
              "    </tr>\n",
              "    <tr>\n",
              "      <th>42</th>\n",
              "      <td>Darkest Hour</td>\n",
              "      <td>2017</td>\n",
              "      <td>8.1</td>\n",
              "      <td>75.0</td>\n",
              "      <td>565514</td>\n",
              "    </tr>\n",
              "    <tr>\n",
              "      <th>43</th>\n",
              "      <td>Money Heist</td>\n",
              "      <td>2017</td>\n",
              "      <td>8.1</td>\n",
              "      <td>NaN</td>\n",
              "      <td>565514</td>\n",
              "    </tr>\n",
              "    <tr>\n",
              "      <th>44</th>\n",
              "      <td>American Made</td>\n",
              "      <td>2017</td>\n",
              "      <td>8.1</td>\n",
              "      <td>65.0</td>\n",
              "      <td>565514</td>\n",
              "    </tr>\n",
              "    <tr>\n",
              "      <th>45</th>\n",
              "      <td>The Handmaid's Tale</td>\n",
              "      <td>2017</td>\n",
              "      <td>8.1</td>\n",
              "      <td>NaN</td>\n",
              "      <td>565514</td>\n",
              "    </tr>\n",
              "    <tr>\n",
              "      <th>46</th>\n",
              "      <td>Mindhunter</td>\n",
              "      <td>2017</td>\n",
              "      <td>8.1</td>\n",
              "      <td>NaN</td>\n",
              "      <td>565514</td>\n",
              "    </tr>\n",
              "    <tr>\n",
              "      <th>47</th>\n",
              "      <td>Transformers: The Last Knight</td>\n",
              "      <td>2017</td>\n",
              "      <td>8.1</td>\n",
              "      <td>NaN</td>\n",
              "      <td>565514</td>\n",
              "    </tr>\n",
              "    <tr>\n",
              "      <th>48</th>\n",
              "      <td>Dark</td>\n",
              "      <td>2017</td>\n",
              "      <td>8.1</td>\n",
              "      <td>NaN</td>\n",
              "      <td>565514</td>\n",
              "    </tr>\n",
              "    <tr>\n",
              "      <th>49</th>\n",
              "      <td>The Lego Batman Movie</td>\n",
              "      <td>2017</td>\n",
              "      <td>8.1</td>\n",
              "      <td>75.0</td>\n",
              "      <td>565514</td>\n",
              "    </tr>\n",
              "  </tbody>\n",
              "</table>\n",
              "</div>"
            ],
            "text/plain": [
              "                                                name  year  ...  metascore    vote\n",
              "0                                              Logan  2017  ...       77.0  565514\n",
              "1                                       Wonder Woman  2017  ...       76.0  565514\n",
              "2                                     Thor: Ragnarok  2017  ...       74.0  565514\n",
              "3                     Guardians of the Galaxy Vol. 2  2017  ...       67.0  565514\n",
              "4                                            Dunkirk  2017  ...       94.0  565514\n",
              "5            Star Wars: Episode VIII - The Last Jedi  2017  ...       85.0  565514\n",
              "6                             Spider-Man: Homecoming  2017  ...       73.0  565514\n",
              "7                                            Get Out  2017  ...       84.0  565514\n",
              "8                                  Blade Runner 2049  2017  ...       81.0  565514\n",
              "9                                        Baby Driver  2017  ...       86.0  565514\n",
              "10                                                It  2017  ...       69.0  565514\n",
              "11         Three Billboards Outside Ebbing, Missouri  2017  ...       88.0  565514\n",
              "12                                    Justice League  2017  ...        NaN  565514\n",
              "13                                The Shape of Water  2017  ...       87.0  565514\n",
              "14                              John Wick: Chapter 2  2017  ...       75.0  565514\n",
              "15                                              Coco  2017  ...       81.0  565514\n",
              "16                    Jumanji: Welcome to the Jungle  2017  ...        NaN  565514\n",
              "17                                Kong: Skull Island  2017  ...       62.0  565514\n",
              "18                              Beauty and the Beast  2017  ...       65.0  565514\n",
              "19                       Kingsman: The Golden Circle  2017  ...        NaN  565514\n",
              "20  Pirates of the Caribbean: Dead Men Tell No Tales  2017  ...        NaN  565514\n",
              "21                                   Alien: Covenant  2017  ...       65.0  565514\n",
              "22                                    13 Reasons Why  2017  ...        NaN  565514\n",
              "23                    War for the Planet of the Apes  2017  ...       82.0  565514\n",
              "24                              The Greatest Showman  2017  ...        NaN  565514\n",
              "25                                              Life  2017  ...        NaN  565514\n",
              "26                           The Fate of the Furious  2017  ...        NaN  565514\n",
              "27                      Murder on the Orient Express  2017  ...        NaN  565514\n",
              "28                                         Lady Bird  2017  ...       94.0  565514\n",
              "29                                Ghost in the Shell  2017  ...        NaN  565514\n",
              "30                                        Wind River  2017  ...       73.0  565514\n",
              "31                  King Arthur: Legend of the Sword  2017  ...        NaN  565514\n",
              "32                            The Hitman's Bodyguard  2017  ...        NaN  565514\n",
              "33                                           Mother!  2017  ...       75.0  565514\n",
              "34                              Call Me by Your Name  2017  ...       93.0  565514\n",
              "35                                         The Mummy  2017  ...        NaN  565514\n",
              "36                                     Atomic Blonde  2017  ...       63.0  565514\n",
              "37                                      The Punisher  2017  ...        NaN  565514\n",
              "38                                            Bright  2017  ...        NaN  565514\n",
              "39                                          I, Tonya  2017  ...       77.0  565514\n",
              "40       Valerian and the City of a Thousand Planets  2017  ...        NaN  565514\n",
              "41                                          Baywatch  2017  ...        NaN  565514\n",
              "42                                      Darkest Hour  2017  ...       75.0  565514\n",
              "43                                       Money Heist  2017  ...        NaN  565514\n",
              "44                                     American Made  2017  ...       65.0  565514\n",
              "45                               The Handmaid's Tale  2017  ...        NaN  565514\n",
              "46                                        Mindhunter  2017  ...        NaN  565514\n",
              "47                     Transformers: The Last Knight  2017  ...        NaN  565514\n",
              "48                                              Dark  2017  ...        NaN  565514\n",
              "49                             The Lego Batman Movie  2017  ...       75.0  565514\n",
              "\n",
              "[50 rows x 5 columns]"
            ]
          },
          "metadata": {
            "tags": []
          },
          "execution_count": 97
        }
      ]
    },
    {
      "cell_type": "code",
      "metadata": {
        "id": "_47dF-Dr0RWf",
        "colab_type": "code",
        "outputId": "5c1ababa-77b6-4b30-85c8-212b18d21c39",
        "colab": {
          "base_uri": "https://localhost:8080/",
          "height": 121
        }
      },
      "source": [
        "df.dtypes"
      ],
      "execution_count": 98,
      "outputs": [
        {
          "output_type": "execute_result",
          "data": {
            "text/plain": [
              "name            object\n",
              "year            object\n",
              "imdb_rating    float64\n",
              "metascore      float64\n",
              "vote             int64\n",
              "dtype: object"
            ]
          },
          "metadata": {
            "tags": []
          },
          "execution_count": 98
        }
      ]
    },
    {
      "cell_type": "code",
      "metadata": {
        "id": "zgcWYNY10TqX",
        "colab_type": "code",
        "colab": {
          "base_uri": "https://localhost:8080/",
          "height": 555
        },
        "outputId": "36cb8de3-b0e8-4d96-e076-0a251291c5b9"
      },
      "source": [
        "import matplotlib as plt\n",
        "df.plot.bar(x='name',y='vote')"
      ],
      "execution_count": 102,
      "outputs": [
        {
          "output_type": "execute_result",
          "data": {
            "text/plain": [
              "<matplotlib.axes._subplots.AxesSubplot at 0x7f5954c57630>"
            ]
          },
          "metadata": {
            "tags": []
          },
          "execution_count": 102
        },
        {
          "output_type": "display_data",
          "data": {
            "image/png": "[encoded data removed]",
            "text/plain": [
              "<Figure size 432x288 with 1 Axes>"
            ]
          },
          "metadata": {
            "tags": []
          }
        }
      ]
    }
  ]
}